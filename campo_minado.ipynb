{
  "nbformat": 4,
  "nbformat_minor": 0,
  "metadata": {
    "colab": {
      "provenance": [],
      "authorship_tag": "ABX9TyNIhmbO6gyIE4MXHWj0rmno",
      "include_colab_link": true
    },
    "kernelspec": {
      "name": "python3",
      "display_name": "Python 3"
    },
    "language_info": {
      "name": "python"
    }
  },
  "cells": [
    {
      "cell_type": "markdown",
      "metadata": {
        "id": "view-in-github",
        "colab_type": "text"
      },
      "source": [
        "<a href=\"https://colab.research.google.com/github/LuizFelipe1995/Python_Projects/blob/treino_python/campo_minado.ipynb\" target=\"_parent\"><img src=\"https://colab.research.google.com/assets/colab-badge.svg\" alt=\"Open In Colab\"/></a>"
      ]
    },
    {
      "cell_type": "code",
      "execution_count": null,
      "metadata": {
        "id": "wxxSMOmmDRyT"
      },
      "outputs": [],
      "source": [
        "def campo_minado():\n",
        "  import random\n",
        "  campo = [\n",
        "      [1,2,3,4,5],\n",
        "      [6,7,8,9,10],\n",
        "      [11,12,13,14,15],\n",
        "      [16,17,18,19,20],\n",
        "      [21,22,23,24,25],\n",
        "  ]\n",
        "\n",
        "  numeros_campo = [num for linha in campo for num in linha]\n",
        "  bombas = random.sample(numeros_campo, 5)\n",
        "  print(15*'-')\n",
        "  for i in campo:\n",
        "    print(*i)\n",
        "  print(15*'-')\n",
        "\n",
        "  contador = 0\n",
        "  while contador <= 4:\n",
        "    try:\n",
        "      jogador = input('Digite o número disponível para marcar\\n:')\n",
        "      jogador = int(jogador)\n",
        "      passou = False\n",
        "      bombou = False\n",
        "\n",
        "      for i in range(len(campo)):\n",
        "        for j in range(len(campo[i])):\n",
        "\n",
        "          if campo[i][j] == jogador:\n",
        "\n",
        "            if jogador in bombas:\n",
        "              campo[i][j] = 'X'\n",
        "              bombou = True\n",
        "\n",
        "\n",
        "            else:\n",
        "              campo[i][j] = 'O'\n",
        "              passou = True\n",
        "              contador += 1\n",
        "\n",
        "      if passou == True:\n",
        "        print(15*'-')\n",
        "        for jogada in campo:\n",
        "          print(*jogada)\n",
        "        print(15*'-')\n",
        "\n",
        "      elif bombou == True:\n",
        "        print('Perdeu!')\n",
        "        print(15*'-')\n",
        "        for jogada in campo:\n",
        "          print(*jogada)\n",
        "        print(15*'-')\n",
        "        break\n",
        "\n",
        "      else:\n",
        "        print('Número não existe')\n",
        "\n",
        "      if contador == 5:\n",
        "        print('Parabens, você venceu!')\n",
        "\n",
        "    except:\n",
        "      print(f'Erro!\\n{jogador} não é um número disponível')\n",
        "\n",
        "campo_minado()"
      ]
    }
  ]
}